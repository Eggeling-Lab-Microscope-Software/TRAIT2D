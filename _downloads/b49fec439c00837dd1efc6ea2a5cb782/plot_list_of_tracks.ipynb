{
  "cells": [
    {
      "cell_type": "code",
      "execution_count": null,
      "metadata": {
        "collapsed": false
      },
      "outputs": [],
      "source": [
        "%matplotlib inline"
      ]
    },
    {
      "cell_type": "markdown",
      "metadata": {},
      "source": [
        "\n# Bulk processing with ``ListOfTracks``\n\nThis example will guide you through the process of importing and analyzing multiple tracks from a single ``.csv`` file in bulk.\n"
      ]
    },
    {
      "cell_type": "markdown",
      "metadata": {},
      "source": [
        "The ``ListOfTracks`` class can load and store multiple tracks in bulk.\n\n"
      ]
    },
    {
      "cell_type": "code",
      "execution_count": null,
      "metadata": {
        "collapsed": false
      },
      "outputs": [],
      "source": [
        "from trait2d.analysis import ListOfTracks"
      ]
    },
    {
      "cell_type": "markdown",
      "metadata": {},
      "source": [
        "We can now import data from a ``.csv`` file. In order to separate tracks, the file has to contain the column ``id`` which assigns a unique integer track identifier to each row. You can have a look at `csv_files` for a complete documentation. Alternative column names can also be supplied using the ``col_name_*`` keyword arguments. (See :meth:`trait2d.analysis.ListOfTracks.from_file` and :meth:`trait2d.analysis.Track.from_file` for this.)\n\n"
      ]
    },
    {
      "cell_type": "code",
      "execution_count": null,
      "metadata": {
        "collapsed": false
      },
      "outputs": [],
      "source": [
        "tracks = ListOfTracks.from_file(\"three_tracks.csv\", unit_length='micrometres')"
      ]
    },
    {
      "cell_type": "markdown",
      "metadata": {},
      "source": [
        "The tracks are now imported and can be used for analysis.\nThe representation of the ``ListOfTracks`` instance holds some information about it.\n\n"
      ]
    },
    {
      "cell_type": "code",
      "execution_count": null,
      "metadata": {
        "collapsed": false
      },
      "outputs": [],
      "source": [
        "tracks"
      ]
    },
    {
      "cell_type": "markdown",
      "metadata": {},
      "source": [
        "To get an overview, we can use :meth:`trait2d.analysis.ListOfTracks.plot_trajectories`\n\n"
      ]
    },
    {
      "cell_type": "code",
      "execution_count": null,
      "metadata": {
        "collapsed": false
      },
      "outputs": [],
      "source": [
        "tracks.plot_trajectories()"
      ]
    },
    {
      "cell_type": "code",
      "execution_count": null,
      "metadata": {
        "collapsed": false
      },
      "outputs": [],
      "source": [
        "from trait2d.analysis.models import ModelBrownian, ModelConfined, ModelHop\nfrom trait2d.analysis import ModelDB\n\nModelDB().add_model(ModelBrownian)\nModelDB().add_model(ModelConfined)\nModelDB().add_model(ModelHop)"
      ]
    },
    {
      "cell_type": "markdown",
      "metadata": {},
      "source": [
        "For analysis, :class:`trait2d.analysis.ListOfTracks` uses the same semantics as :class:`Track` for analysis. You can get a summary of the analysis results using :meth:`trait2d.analysis.ListOfTracks.adc_summary`.\n\n"
      ]
    },
    {
      "cell_type": "code",
      "execution_count": null,
      "metadata": {
        "collapsed": false
      },
      "outputs": [],
      "source": [
        "tracks.adc_analysis(fraction_fit_points = 0.15)\ntracks.adc_summary(plot_dapp=True, plot_pie_chart=True)"
      ]
    },
    {
      "cell_type": "markdown",
      "metadata": {},
      "source": [
        "Single tracks can also be retrieved and viewed easily. It is also possible to run individual analysis on these tracks.\n\n"
      ]
    },
    {
      "cell_type": "code",
      "execution_count": null,
      "metadata": {
        "collapsed": false
      },
      "outputs": [],
      "source": [
        "tracks.get_track(0).plot_adc_analysis_results()"
      ]
    },
    {
      "cell_type": "markdown",
      "metadata": {},
      "source": [
        ":meth:`trait2d.analysis.ListOfTracks.adc_summary`'s way of averaging the parameters as well as `Dapp` for each model after analysing each track can be inaccurate. It may thus be desirable to get an average of the categorised curves first and then run an additional analysis. :meth:`trait2d.analysis.ListOfTracks.average` can help with this.\nIt returns a special :class:`trait2d.analysis.MSDTrack` object which does not store trajectory data but instead the average MSD values. It can be used for analysis like an ordinary :class:`trait2d.analysis.Track` object.\nHere, we analyse the average of all tracks classified as Confined Diffusion.\n\n"
      ]
    },
    {
      "cell_type": "code",
      "execution_count": null,
      "metadata": {
        "collapsed": false
      },
      "outputs": [],
      "source": [
        "confined_tracks = tracks.get_sublist(ModelConfined).average()\nconfined_tracks.adc_analysis()\nconfined_tracks.plot_adc_analysis_results()"
      ]
    },
    {
      "cell_type": "markdown",
      "metadata": {},
      "source": [
        "It is a good idea to use `ModelDB().cleanup()` at the end of your notebooks to remove all models again. Otherwise they may carry over into other open notebooks.\n\n"
      ]
    },
    {
      "cell_type": "code",
      "execution_count": null,
      "metadata": {
        "collapsed": false
      },
      "outputs": [],
      "source": [
        "ModelDB().cleanup()"
      ]
    }
  ],
  "metadata": {
    "kernelspec": {
      "display_name": "Python 3",
      "language": "python",
      "name": "python3"
    },
    "language_info": {
      "codemirror_mode": {
        "name": "ipython",
        "version": 3
      },
      "file_extension": ".py",
      "mimetype": "text/x-python",
      "name": "python",
      "nbconvert_exporter": "python",
      "pygments_lexer": "ipython3",
      "version": "3.8.10"
    }
  },
  "nbformat": 4,
  "nbformat_minor": 0
}