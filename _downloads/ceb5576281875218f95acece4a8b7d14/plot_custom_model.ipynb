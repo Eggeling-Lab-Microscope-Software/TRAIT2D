{
  "cells": [
    {
      "cell_type": "code",
      "execution_count": null,
      "metadata": {
        "collapsed": false
      },
      "outputs": [],
      "source": [
        "%matplotlib inline"
      ]
    },
    {
      "cell_type": "markdown",
      "metadata": {},
      "source": [
        "\n# Adding Custom Models for ADC Analysis\n\nThis example will guide you throw defining and using a custom model for ADC analysis.\n"
      ]
    },
    {
      "cell_type": "markdown",
      "metadata": {},
      "source": [
        "In order to add a new model, we can inherit from :class:`trait2d.analysis.models.ModelBase`.\n\n"
      ]
    },
    {
      "cell_type": "code",
      "execution_count": null,
      "metadata": {
        "collapsed": false
      },
      "outputs": [],
      "source": [
        "from trait2d.analysis.models import ModelBase"
      ]
    },
    {
      "cell_type": "markdown",
      "metadata": {},
      "source": [
        "Here, we define a simple model for Brownian diffusion (which is the same as the one already provided with the library).\nYou need to provide default values for the model parameter bounds and initial values as well as the model formula inside the ``__call__`` method.\nYou can also access ``R`` (point scanning across the field of view) and ``dt`` (time interval between track localisations) which are defined in the base class.\n\n"
      ]
    },
    {
      "cell_type": "code",
      "execution_count": null,
      "metadata": {
        "collapsed": false
      },
      "outputs": [],
      "source": [
        "import numpy as np\n\nclass ModelBrownian(ModelBase):\n    lower = [0.0, 0.0]\n    upper = [np.inf, np.inf]\n    initial = [0.5e-12, 2.0e-9]\n\n    def __call__(self, t, D, delta):\n        return D+delta**2/(2*t*(1-2*self.R*self.dt/t))"
      ]
    },
    {
      "cell_type": "markdown",
      "metadata": {},
      "source": [
        "After we've defined the model, we can simply add it to the :class:`trait2d.analysis.ModelDB`.\n\n"
      ]
    },
    {
      "cell_type": "code",
      "execution_count": null,
      "metadata": {
        "collapsed": false
      },
      "outputs": [],
      "source": [
        "from trait2d.analysis import ModelDB\nModelDB().add_model(ModelBrownian)"
      ]
    },
    {
      "cell_type": "markdown",
      "metadata": {},
      "source": [
        "We can now run ADC analysis with the model.\n\n"
      ]
    },
    {
      "cell_type": "code",
      "execution_count": null,
      "metadata": {
        "collapsed": false
      },
      "outputs": [],
      "source": [
        "from trait2d.analysis import Track\ntrack = Track.from_file(\"track1.csv\", unit_length='micrometres')\ntrack.adc_analysis(fraction_fit_points = 0.15)\ntrack.plot_adc_analysis_results()"
      ]
    },
    {
      "cell_type": "markdown",
      "metadata": {},
      "source": [
        "It is a good idea to use `ModelDB().cleanup()` at the end of your notebooks to remove all models again. Otherwise they may carry over into other open notebooks.\n\n"
      ]
    },
    {
      "cell_type": "code",
      "execution_count": null,
      "metadata": {
        "collapsed": false
      },
      "outputs": [],
      "source": [
        "ModelDB().cleanup()"
      ]
    }
  ],
  "metadata": {
    "kernelspec": {
      "display_name": "Python 3",
      "language": "python",
      "name": "python3"
    },
    "language_info": {
      "codemirror_mode": {
        "name": "ipython",
        "version": 3
      },
      "file_extension": ".py",
      "mimetype": "text/x-python",
      "name": "python",
      "nbconvert_exporter": "python",
      "pygments_lexer": "ipython3",
      "version": "3.8.8"
    }
  },
  "nbformat": 4,
  "nbformat_minor": 0
}