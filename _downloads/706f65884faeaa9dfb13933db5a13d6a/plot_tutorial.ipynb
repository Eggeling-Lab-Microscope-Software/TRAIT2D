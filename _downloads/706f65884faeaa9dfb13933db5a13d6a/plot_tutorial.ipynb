{
  "cells": [
    {
      "cell_type": "code",
      "execution_count": null,
      "metadata": {
        "collapsed": false
      },
      "outputs": [],
      "source": [
        "%matplotlib inline"
      ]
    },
    {
      "cell_type": "markdown",
      "metadata": {},
      "source": [
        "\n# TRAIT Tutorial\n\nThis example demonstrates some of the library's core features, namely simulation and analysis of 2D diffusion tracks. You will learn about:\n\n## Simulation\n\n- Simulating multiple tracks with different diffusion models\n\n## Analysis\n\n- Apparent Diffusion Coefficient (ADC) analysis of a single track\n- ADC analysis of multiple tracks in bulk\n- Retreiving an analysis summary of multiple tracks\n- Filtering tracks by diffusion category\n"
      ]
    },
    {
      "cell_type": "markdown",
      "metadata": {},
      "source": [
        "### Simulate tracks\n\n"
      ]
    },
    {
      "cell_type": "markdown",
      "metadata": {},
      "source": [
        "First, import the required simulators:\n\n"
      ]
    },
    {
      "cell_type": "code",
      "execution_count": null,
      "metadata": {
        "collapsed": false
      },
      "outputs": [],
      "source": [
        "from trait2d.simulators import BrownianDiffusion\nfrom trait2d.simulators import HoppingDiffusion"
      ]
    },
    {
      "cell_type": "markdown",
      "metadata": {},
      "source": [
        "A simulator can be initialised with different parameters. For Brownian diffusion, we choose the following:\n\n"
      ]
    },
    {
      "cell_type": "code",
      "execution_count": null,
      "metadata": {
        "collapsed": false
      },
      "outputs": [],
      "source": [
        "params = dict()\nparams[\"Tmax\"] = 0.5 # Maximum simulation time (s)\nparams[\"dt\"] = 1e-4 # Simulation time resolution (s)\nparams[\"dL\"] = 1e-12 # Simulation spatial resolution (m)\nparams[\"d\"] = 1e-12 # Diffusion coefficient (m^2/s)\nparams[\"L\"] = 1e-5 # Simulation domain size (m)\nparams[\"seed\"] = 42 # Seed to initialize the random generator (for reproducibility)\nparams[\"quantize\"] = False # Quantize the position to the simulation spatial resolution grid.\n\nsimulator_brownian = BrownianDiffusion(**params)"
      ]
    },
    {
      "cell_type": "markdown",
      "metadata": {},
      "source": [
        "Parameters differ between simulators.\n\n"
      ]
    },
    {
      "cell_type": "code",
      "execution_count": null,
      "metadata": {
        "collapsed": false
      },
      "outputs": [],
      "source": [
        "params = dict()\nparams[\"Tmax\"] = 0.5 # Maximum simulation time (s)\nparams[\"dt\"] = 1e-4 # Simulation time resolution (s)\nparams[\"dL\"] = 1e-8 # Simulation spatial resolution (m)\nparams[\"Df\"] = 8e-13 # Free diffusion coefficient [m^2/s]\nparams[\"L\"] = 1e-5 # Simulation domain size (m)\nparams[\"HP\"] = 0.01 # Hopping probability [0-1]\nparams[\"HL\"] = 1e-6 # Average compartment diameter/length [m]\nparams[\"seed\"] = 42 # Seed to initialize the random generator (for reproducibility)\nparams[\"quantize\"] = False # Quantize the position to the simulation spatial resolution grid.\n\nsimulator_hop = HoppingDiffusion(**params)"
      ]
    },
    {
      "cell_type": "markdown",
      "metadata": {},
      "source": [
        "After initialisation the simulations can be run. The results will be stored in the simulator object.\n\n"
      ]
    },
    {
      "cell_type": "code",
      "execution_count": null,
      "metadata": {
        "collapsed": false
      },
      "outputs": [],
      "source": [
        "simulator_brownian.run();\nsimulator_hop.run();"
      ]
    },
    {
      "cell_type": "markdown",
      "metadata": {},
      "source": [
        "The simulated trajectoies can be plotted:\n\n"
      ]
    },
    {
      "cell_type": "code",
      "execution_count": null,
      "metadata": {
        "collapsed": false
      },
      "outputs": [],
      "source": [
        "simulator_brownian.display_trajectory()\nsimulator_hop.display_trajectory()"
      ]
    },
    {
      "cell_type": "markdown",
      "metadata": {},
      "source": [
        "It is also possible to export the simulated tracks as videos using the ``trait2d.simulators.iscat_movie`` class. Currently, the tracks need first to be saved e.g. as a ``.csv`` using ``BrownianDiffusion.save()`` (or any other Diffusion model) and then load them again using ``iscat_movie.load_tracks()``. You also need to load a PSF with ``iscat_movie.load_psf()``.\n\n"
      ]
    },
    {
      "cell_type": "markdown",
      "metadata": {},
      "source": [
        "### Analyse tracks\n\n"
      ]
    },
    {
      "cell_type": "markdown",
      "metadata": {},
      "source": [
        "Before we start fitting our data, we need to add some models. ``trait2d.analysis.models`` contains a few models that we can add to ``ModelDB``. All models added this way will be used during analysis.\n\n"
      ]
    },
    {
      "cell_type": "code",
      "execution_count": null,
      "metadata": {
        "collapsed": false
      },
      "outputs": [],
      "source": [
        "from trait2d.analysis import ModelDB\nfrom trait2d.analysis.models import ModelBrownian, ModelConfined, ModelHop\n\nModelDB().add_model(ModelBrownian)\nModelDB().add_model(ModelConfined)\nModelDB().add_model(ModelHop)"
      ]
    },
    {
      "cell_type": "markdown",
      "metadata": {},
      "source": [
        "Single tracks are stored in a ``Track`` object.\n\n"
      ]
    },
    {
      "cell_type": "code",
      "execution_count": null,
      "metadata": {
        "collapsed": false
      },
      "outputs": [],
      "source": [
        "from trait2d.analysis import Track"
      ]
    },
    {
      "cell_type": "markdown",
      "metadata": {},
      "source": [
        "We can create a single track from our last simulation:\n\n"
      ]
    },
    {
      "cell_type": "code",
      "execution_count": null,
      "metadata": {
        "collapsed": false
      },
      "outputs": [],
      "source": [
        "single_track = Track.from_dict(simulator_brownian.trajectory)"
      ]
    },
    {
      "cell_type": "markdown",
      "metadata": {},
      "source": [
        "We can now do ADC analysis on the track:\n\n"
      ]
    },
    {
      "cell_type": "code",
      "execution_count": null,
      "metadata": {
        "collapsed": false
      },
      "outputs": [],
      "source": [
        "results = single_track.adc_analysis(fit_max_time=0.5e-1)"
      ]
    },
    {
      "cell_type": "markdown",
      "metadata": {},
      "source": [
        "Analysis results like the calculated values for $D_{app}$, fit parameters and much more are returned in a dictionary. We can also retreive the dictionary of the last analysis at any time with ``get_adc_analysis_results``.\n\n"
      ]
    },
    {
      "cell_type": "code",
      "execution_count": null,
      "metadata": {
        "collapsed": false
      },
      "outputs": [],
      "source": [
        "fit_results = results[\"fit_results\"]\nbest_model = results[\"best_model\"]\nprint(fit_results)\nprint(best_model)\n\nsingle_track.plot_adc_analysis_results()"
      ]
    },
    {
      "cell_type": "markdown",
      "metadata": {},
      "source": [
        "Multiple tracks are then stored in a ``ListOfTracks`` object.\n\n"
      ]
    },
    {
      "cell_type": "code",
      "execution_count": null,
      "metadata": {
        "collapsed": false
      },
      "outputs": [],
      "source": [
        "from trait2d.analysis import ListOfTracks"
      ]
    },
    {
      "cell_type": "markdown",
      "metadata": {},
      "source": [
        "For now, we just simulate some more tracks and create a single ``ListOfTracks`` from these tracks. Multiple tracks can also be loaded from a single file using ``ListOfTracks.from_file()``.\n\n"
      ]
    },
    {
      "cell_type": "code",
      "execution_count": null,
      "metadata": {
        "collapsed": false
      },
      "outputs": [],
      "source": [
        "import random\ntracks = []\nfor i in range(10):\n    simulator_brownian.run()\n    simulator_hop.run()\n    tracks.append(Track.from_dict(simulator_brownian.trajectory))\n    tracks.append(Track.from_dict(simulator_hop.trajectory))\n    \ntracks = ListOfTracks(tracks)"
      ]
    },
    {
      "cell_type": "markdown",
      "metadata": {},
      "source": [
        "In order to set initial parameters or bounds for the fits, we need to modify the models inside ``ModelDB``. These will then be applied during all analysis from this point on.\n\n"
      ]
    },
    {
      "cell_type": "code",
      "execution_count": null,
      "metadata": {
        "collapsed": false
      },
      "outputs": [],
      "source": [
        "ModelDB().get_model(ModelBrownian).initial = fit_results[\"ModelBrownian\"][\"params\"]\nModelDB().get_model(ModelConfined).initial = fit_results[\"ModelConfined\"][\"params\"]\nModelDB().get_model(ModelHop).initial = fit_results[\"ModelHop\"][\"params\"]"
      ]
    },
    {
      "cell_type": "markdown",
      "metadata": {},
      "source": [
        "Here, we set all initial parameters to the results of our single fit from before.\n\n"
      ]
    },
    {
      "cell_type": "markdown",
      "metadata": {},
      "source": [
        "Now that we set our initial guesses, let's analyse the remaining tracks at once.\n\nEnabling logarithmic sampling is a good idea since the time axis will be scaled logarithmically by default. We can also set the maximum time on the time for which to fit.\n\n``adc_analysis`` will return a list containing the indices of all tracks for which a fit has failed. These can then be retreived with ``get_track`` and analysed further.\n\n"
      ]
    },
    {
      "cell_type": "code",
      "execution_count": null,
      "metadata": {
        "collapsed": false
      },
      "outputs": [],
      "source": [
        "tracks.adc_analysis(fit_max_time=50e-3, enable_log_sampling=True)"
      ]
    },
    {
      "cell_type": "markdown",
      "metadata": {},
      "source": [
        "``adc_summary`` gives an overview of the analysis results including optional plots, the averaged parameters for each model, the averaged MSD for each model and the averaged $D_{app}$ for each model.\n\n(We need to set ``interpolation = True`` since some of the time differences in the simulated tracks deviate *slightly* from the expected value.)\n\n"
      ]
    },
    {
      "cell_type": "code",
      "execution_count": null,
      "metadata": {
        "collapsed": false
      },
      "outputs": [],
      "source": [
        "tracks.adc_summary(plot_dapp=True, plot_pie_chart=True, interpolation=True)"
      ]
    },
    {
      "cell_type": "markdown",
      "metadata": {},
      "source": [
        "Now that analysis is done we can also retrieve all tracks that fit a certain diffusion category best:\n\n"
      ]
    },
    {
      "cell_type": "code",
      "execution_count": null,
      "metadata": {
        "collapsed": false
      },
      "outputs": [],
      "source": [
        "tracks_brownian = tracks.get_sublist(model=ModelBrownian)\ntracks_brownian.adc_summary(plot_dapp=True, interpolation=True)"
      ]
    },
    {
      "cell_type": "markdown",
      "metadata": {},
      "source": [
        "As mentioned before, we can retreive the analysis results for any track, at any time. Single tracks can be received with ``ListOfTracks.get_track``.\n\n"
      ]
    },
    {
      "cell_type": "code",
      "execution_count": null,
      "metadata": {
        "collapsed": false
      },
      "outputs": [],
      "source": [
        "tracks_brownian.get_track(0).get_adc_analysis_results()"
      ]
    },
    {
      "cell_type": "markdown",
      "metadata": {},
      "source": [
        "We can also plot them:\n\n"
      ]
    },
    {
      "cell_type": "code",
      "execution_count": null,
      "metadata": {
        "collapsed": false
      },
      "outputs": [],
      "source": [
        "tracks_brownian.get_track(0).plot_adc_analysis_results()"
      ]
    },
    {
      "cell_type": "markdown",
      "metadata": {},
      "source": [
        "It is a good idea to use `ModelDB().cleanup()` at the end of your notebooks to remove all models again. Otherwise they may carry over into other open notebooks.\n\n"
      ]
    },
    {
      "cell_type": "code",
      "execution_count": null,
      "metadata": {
        "collapsed": false
      },
      "outputs": [],
      "source": [
        "ModelDB().cleanup()"
      ]
    }
  ],
  "metadata": {
    "kernelspec": {
      "display_name": "Python 3",
      "language": "python",
      "name": "python3"
    },
    "language_info": {
      "codemirror_mode": {
        "name": "ipython",
        "version": 3
      },
      "file_extension": ".py",
      "mimetype": "text/x-python",
      "name": "python",
      "nbconvert_exporter": "python",
      "pygments_lexer": "ipython3",
      "version": "3.8.9"
    }
  },
  "nbformat": 4,
  "nbformat_minor": 0
}