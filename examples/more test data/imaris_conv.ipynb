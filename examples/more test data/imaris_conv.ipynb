{
 "cells": [
  {
   "cell_type": "code",
   "execution_count": 7,
   "metadata": {},
   "outputs": [],
   "source": [
    "import pandas as pd\n",
    "\n",
    "def Imaris_converter(filename,t = 0.0005):\n",
    "    '''\n",
    "    a small function to convert imaris files to a format readable by the TRAIT program.\n",
    "    Writes a csv file in the same folder as the original with the fields: t,x,y,id. The time is sequential, not that it should matter.\n",
    "\n",
    "    Input:\n",
    "    filename = string\n",
    "    t = time interval in seconds between two observations\n",
    "\n",
    "    Returns: none\n",
    "\n",
    "    '''\n",
    "    #reads in the data\n",
    "    with open(filename,'r') as imaris:\n",
    "        original_data = pd.read_csv(imaris, skiprows = 3, header = 4)\n",
    "    #select relevant data\n",
    "    kept_data = pd.DataFrame(data = original_data.values[:,(0,1,8)], columns=['x','y','id'])\n",
    "    #\"clean up\" the ID column\n",
    "    kept_data['id'] = kept_data['id'] - 1000000000;\n",
    "    #add the time column 't'\n",
    "    kept_data.insert(0,column = 't', value = [i*t for i in range(0,len(original_data))])\n",
    "\n",
    "    # write the output\n",
    "\n",
    "    with open((filename[0:-4] + '_converted.csv'),'w',newline = '') as converted:\n",
    "        kept_data.to_csv(converted,index = False)"
   ]
  },
  {
   "cell_type": "code",
   "execution_count": 8,
   "metadata": {},
   "outputs": [],
   "source": [
    "import os \n",
    "folder_location = 'C:\\\\Users\\\\reinafrancesco\\\\Documents\\\\GitHub\\\\iscat trajectories\\more test data'\n",
    "\n",
    "os.chdir(folder_location)\n",
    "file_list = os.listdir(folder_location)"
   ]
  },
  {
   "cell_type": "code",
   "execution_count": 9,
   "metadata": {},
   "outputs": [],
   "source": [
    "for file in file_list:\n",
    "    Imaris_converter(file)"
   ]
  },
  {
   "cell_type": "code",
   "execution_count": null,
   "metadata": {},
   "outputs": [],
   "source": []
  }
 ],
 "metadata": {
  "language_info": {
   "codemirror_mode": {
    "name": "ipython",
    "version": 3
   },
   "file_extension": ".py",
   "mimetype": "text/x-python",
   "name": "python",
   "nbconvert_exporter": "python",
   "pygments_lexer": "ipython3",
   "version": "3.7.4-final"
  },
  "orig_nbformat": 2,
  "kernelspec": {
   "name": "python3",
   "display_name": "Python 3"
  }
 },
 "nbformat": 4,
 "nbformat_minor": 2
}