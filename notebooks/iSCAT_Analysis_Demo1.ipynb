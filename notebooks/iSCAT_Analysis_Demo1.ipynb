{
 "cells": [
  {
   "cell_type": "markdown",
   "metadata": {},
   "source": [
    "# iSCAT Analysis Demo"
   ]
  },
  {
   "cell_type": "markdown",
   "metadata": {},
   "source": [
    "This notebook demonstrates:\n",
    "* Loading mulitple tracks from a single file\n",
    "* Retreiving single tracks from this\n",
    "* ADC analysis of a single track\n",
    "* ADC analysis of multiple tracks at once\n",
    "* Retreiving analysis results using `adc_summary`\n",
    "* Retreiving tracks that fit a certain diffusion category"
   ]
  },
  {
   "cell_type": "markdown",
   "metadata": {},
   "source": [
    "Before we start fitting our data, we need to add some models. `iscat_lib.analysis.models` contains a few models that we can add to `ModelDB`. All models added this way will be used during analysis."
   ]
  },
  {
   "cell_type": "code",
   "execution_count": 5,
   "metadata": {},
   "outputs": [
    {
     "ename": "ValueError",
     "evalue": "ModelDB already contains an instance of the model ModelBrownian.",
     "output_type": "error",
     "traceback": [
      "\u001b[0;31m---------------------------------------------------------------------------\u001b[0m",
      "\u001b[0;31mValueError\u001b[0m                                Traceback (most recent call last)",
      "\u001b[0;32m<ipython-input-5-da4a4b8ee6e5>\u001b[0m in \u001b[0;36m<module>\u001b[0;34m\u001b[0m\n\u001b[1;32m      2\u001b[0m \u001b[0;32mfrom\u001b[0m \u001b[0miscat_lib\u001b[0m\u001b[0;34m.\u001b[0m\u001b[0manalysis\u001b[0m\u001b[0;34m.\u001b[0m\u001b[0mmodels\u001b[0m \u001b[0;32mimport\u001b[0m \u001b[0mModelBrownian\u001b[0m\u001b[0;34m,\u001b[0m \u001b[0mModelConfined\u001b[0m\u001b[0;34m,\u001b[0m \u001b[0mModelHop\u001b[0m\u001b[0;34m\u001b[0m\u001b[0m\n\u001b[1;32m      3\u001b[0m \u001b[0;34m\u001b[0m\u001b[0m\n\u001b[0;32m----> 4\u001b[0;31m \u001b[0mModelDB\u001b[0m\u001b[0;34m(\u001b[0m\u001b[0;34m)\u001b[0m\u001b[0;34m.\u001b[0m\u001b[0madd_model\u001b[0m\u001b[0;34m(\u001b[0m\u001b[0mModelBrownian\u001b[0m\u001b[0;34m)\u001b[0m\u001b[0;34m\u001b[0m\u001b[0m\n\u001b[0m\u001b[1;32m      5\u001b[0m \u001b[0mModelDB\u001b[0m\u001b[0;34m(\u001b[0m\u001b[0;34m)\u001b[0m\u001b[0;34m.\u001b[0m\u001b[0madd_model\u001b[0m\u001b[0;34m(\u001b[0m\u001b[0mModelConfined\u001b[0m\u001b[0;34m)\u001b[0m\u001b[0;34m\u001b[0m\u001b[0m\n\u001b[1;32m      6\u001b[0m \u001b[0mModelDB\u001b[0m\u001b[0;34m(\u001b[0m\u001b[0;34m)\u001b[0m\u001b[0;34m.\u001b[0m\u001b[0madd_model\u001b[0m\u001b[0;34m(\u001b[0m\u001b[0mModelHop\u001b[0m\u001b[0;34m)\u001b[0m\u001b[0;34m\u001b[0m\u001b[0m\n",
      "\u001b[0;32m~/Desktop/iSCAT_tracking/iscat_lib/analysis/__init__.py\u001b[0m in \u001b[0;36madd_model\u001b[0;34m(self, model)\u001b[0m\n\u001b[1;32m     41\u001b[0m         \u001b[0;32mfor\u001b[0m \u001b[0mm\u001b[0m \u001b[0;32min\u001b[0m \u001b[0mself\u001b[0m\u001b[0;34m.\u001b[0m\u001b[0mmodels\u001b[0m\u001b[0;34m:\u001b[0m\u001b[0;34m\u001b[0m\u001b[0m\n\u001b[1;32m     42\u001b[0m             \u001b[0;32mif\u001b[0m \u001b[0mm\u001b[0m\u001b[0;34m.\u001b[0m\u001b[0m__class__\u001b[0m \u001b[0;34m==\u001b[0m \u001b[0mmodel\u001b[0m\u001b[0;34m:\u001b[0m\u001b[0;34m\u001b[0m\u001b[0m\n\u001b[0;32m---> 43\u001b[0;31m                 \u001b[0;32mraise\u001b[0m \u001b[0mValueError\u001b[0m\u001b[0;34m(\u001b[0m\u001b[0;34m\"ModelDB already contains an instance of the model {}.\"\u001b[0m\u001b[0;34m.\u001b[0m\u001b[0mformat\u001b[0m\u001b[0;34m(\u001b[0m\u001b[0mmodel\u001b[0m\u001b[0;34m.\u001b[0m\u001b[0m__name__\u001b[0m\u001b[0;34m)\u001b[0m\u001b[0;34m)\u001b[0m\u001b[0;34m\u001b[0m\u001b[0m\n\u001b[0m\u001b[1;32m     44\u001b[0m         \u001b[0mself\u001b[0m\u001b[0;34m.\u001b[0m\u001b[0mmodels\u001b[0m\u001b[0;34m.\u001b[0m\u001b[0mappend\u001b[0m\u001b[0;34m(\u001b[0m\u001b[0mmodel\u001b[0m\u001b[0;34m(\u001b[0m\u001b[0;34m)\u001b[0m\u001b[0;34m)\u001b[0m\u001b[0;34m\u001b[0m\u001b[0m\n\u001b[1;32m     45\u001b[0m \u001b[0;34m\u001b[0m\u001b[0m\n",
      "\u001b[0;31mValueError\u001b[0m: ModelDB already contains an instance of the model ModelBrownian."
     ]
    }
   ],
   "source": [
    "from iscat_lib.analysis import ModelDB\n",
    "from iscat_lib.analysis.models import ModelBrownian, ModelConfined, ModelHop\n",
    "\n",
    "ModelDB().add_model(ModelBrownian)\n",
    "ModelDB().add_model(ModelConfined)\n",
    "ModelDB().add_model(ModelHop)"
   ]
  },
  {
   "cell_type": "markdown",
   "metadata": {},
   "source": [
    "Multiple tracks are stored in a `ListOfTracks` objects. "
   ]
  },
  {
   "cell_type": "code",
   "execution_count": 6,
   "metadata": {},
   "outputs": [],
   "source": [
    "from iscat_lib.analysis import ListOfTracks"
   ]
  },
  {
   "cell_type": "markdown",
   "metadata": {},
   "source": [
    "Load the tracks from some example data. We can use `tracks.normalize` to set the initial time value of all tracks to 0."
   ]
  },
  {
   "cell_type": "code",
   "execution_count": 4,
   "metadata": {},
   "outputs": [],
   "source": [
    "tracks = ListOfTracks.from_file(\"../examples/more test data/180912 20nm GoldNP on 75DOPC25Chol (2kHz 100pc power)_Position_converted_fixed.csv\", unit_length='micrometres')\n",
    "tracks.normalize(normalize_t = True, normalize_xy = False)"
   ]
  },
  {
   "cell_type": "markdown",
   "metadata": {},
   "source": [
    "Single tracks are stored in a `Track` object."
   ]
  },
  {
   "cell_type": "code",
   "execution_count": 7,
   "metadata": {},
   "outputs": [],
   "source": [
    "from iscat_lib.analysis import Track"
   ]
  },
  {
   "cell_type": "markdown",
   "metadata": {},
   "source": [
    "We can retreive single tracks either by their index in then `LiftOfTracks` object using `get_track` of by their ID (should they have one) using `get_track_by_id`:"
   ]
  },
  {
   "cell_type": "code",
   "execution_count": 9,
   "metadata": {},
   "outputs": [],
   "source": [
    "single_track = tracks.get_track(0)"
   ]
  },
  {
   "cell_type": "markdown",
   "metadata": {},
   "source": [
    "We can now do ADC analysis on the track:"
   ]
  },
  {
   "cell_type": "code",
   "execution_count": 11,
   "metadata": {},
   "outputs": [],
   "source": [
    "results = single_track.adc_analysis()"
   ]
  },
  {
   "cell_type": "markdown",
   "metadata": {},
   "source": [
    "Analysis results like the calculated values for $D_{app}$, fit parameters and much more are returned in a dictionary. We can also retreive the dictionary of the last analysis at any time with `get_adc_analysis_results`."
   ]
  },
  {
   "cell_type": "code",
   "execution_count": 15,
   "metadata": {},
   "outputs": [
    {
     "data": {
      "text/plain": [
       "{'ModelBrownian': {'params': array([8.72791175e-13, 5.10762742e-08]),\n",
       "  'errors': array([4.19813777e-15, 8.78994339e-10]),\n",
       "  'bic': -54.64141697148811,\n",
       "  'rel_likelihood': 1.0},\n",
       " 'ModelConfined': {'params': array([1.04841983e-21, 1.04105487e-07, 4.26091324e-04]),\n",
       "  'errors': array([1.22687120e-11, 1.20631910e-08, 5.83251588e-23]),\n",
       "  'bic': -49.550082766762905,\n",
       "  'rel_likelihood': 0.07842071987971853},\n",
       " 'ModelHop': {'params': array([8.88467225e-13, 8.81264679e-12, 3.69141356e-08, 3.35368576e-04]),\n",
       "  'errors': array([7.07694003e-15, 2.56410219e-11, 4.99850559e-09, 5.95617034e-04]),\n",
       "  'bic': -53.553995514604864,\n",
       "  'rel_likelihood': 0.5805898389792749}}"
      ]
     },
     "execution_count": 15,
     "metadata": {},
     "output_type": "execute_result"
    }
   ],
   "source": [
    "fit_results = results[\"fit_results\"]\n",
    "fit_results"
   ]
  },
  {
   "cell_type": "markdown",
   "metadata": {},
   "source": [
    "In order to set initial parameters or bounds for the fits, we need to modify the models inside `ModelDB`. These will then be applied during all analysis from this point on."
   ]
  },
  {
   "cell_type": "code",
   "execution_count": 16,
   "metadata": {},
   "outputs": [],
   "source": [
    "ModelDB().get_model(ModelBrownian).initial = fit_results[\"ModelBrownian\"][\"params\"]\n",
    "ModelDB().get_model(ModelConfined).initial = fit_results[\"ModelConfined\"][\"params\"]\n",
    "ModelDB().get_model(ModelHop).initial = fit_results[\"ModelHop\"][\"params\"]"
   ]
  },
  {
   "cell_type": "markdown",
   "metadata": {},
   "source": [
    "Here, we set all initial parameters to the results of our single fit."
   ]
  },
  {
   "cell_type": "code",
   "execution_count": 17,
   "metadata": {},
   "outputs": [
    {
     "data": {
      "text/plain": [
       "array([8.72791175e-13, 5.10762742e-08])"
      ]
     },
     "execution_count": 17,
     "metadata": {},
     "output_type": "execute_result"
    }
   ],
   "source": [
    "ModelDB().get_model(ModelBrownian).initial"
   ]
  },
  {
   "cell_type": "markdown",
   "metadata": {},
   "source": [
    "Now that we set our initial guesses, let's analyse the remaining tracks at once.\n",
    "\n",
    "Enabling logarithmic sampling is a good idea since the time axis will be scaled logarithmically by default. We can also set the maximum time on the time for which to fit.\n",
    "\n",
    "`adc_analysis` will return a list containing the indices of all tracks for which a fit has failed. These can then be retreived with `get_track` and analysed further."
   ]
  },
  {
   "cell_type": "code",
   "execution_count": 19,
   "metadata": {
    "scrolled": true
   },
   "outputs": [
    {
     "data": {
      "text/plain": [
       "[]"
      ]
     },
     "execution_count": 19,
     "metadata": {},
     "output_type": "execute_result"
    }
   ],
   "source": [
    "tracks.adc_analysis(fit_max_time=50e-3, enable_log_sampling=True)"
   ]
  },
  {
   "cell_type": "markdown",
   "metadata": {},
   "source": [
    "`adc_summary` gives an overview of the analysis results including optional plots, the averaged parameters for each model, the averaged MSD for each model and the averaged $D_{app}$ for each model."
   ]
  },
  {
   "cell_type": "code",
   "execution_count": 22,
   "metadata": {},
   "outputs": [
    {
     "name": "stderr",
     "output_type": "stream",
     "text": [
      "/home/iscat/Desktop/iSCAT_tracking/iscat_lib/analysis/models.py:20: RuntimeWarning: divide by zero encountered in true_divide\n",
      "  return D + delta**2 / (2*t*(1-2*self.R*self.dt/t))\n",
      "/home/iscat/Desktop/iSCAT_tracking/iscat_lib/analysis/models.py:20: RuntimeWarning: invalid value encountered in multiply\n",
      "  return D + delta**2 / (2*t*(1-2*self.R*self.dt/t))\n",
      "/home/iscat/Desktop/iSCAT_tracking/iscat_lib/analysis/models.py:42: RuntimeWarning: divide by zero encountered in true_divide\n",
      "  D_micro * (tau/t) * (1 - np.exp(-tau/t)) + \\\n",
      "/home/iscat/Desktop/iSCAT_tracking/iscat_lib/analysis/models.py:43: RuntimeWarning: divide by zero encountered in true_divide\n",
      "  delta ** 2 / (2 * t * (1 - 2 * self.R * self.dt / t))\n",
      "/home/iscat/Desktop/iSCAT_tracking/iscat_lib/analysis/models.py:43: RuntimeWarning: invalid value encountered in multiply\n",
      "  delta ** 2 / (2 * t * (1 - 2 * self.R * self.dt / t))\n"
     ]
    },
    {
     "data": {
      "text/plain": [
       "{'sectors': {'ModelBrownian': 0.2627118644067797,\n",
       "  'ModelHop': 0.7372881355932204,\n",
       "  'not catergorized': 0.0},\n",
       " 'average_params': {'ModelBrownian': array([3.40323115e-13, 2.71560061e-08]),\n",
       "  'ModelHop': array([4.00286726e-13, 2.00182260e-05, 2.63860552e-08, 1.20115195e-04])},\n",
       " 'average_msd': {'ModelBrownian': array([1.82546758e-15, 2.75913062e-15, 3.63095027e-15, ...,\n",
       "         2.63871243e-12, 2.60245726e-12, 2.58636679e-12]),\n",
       "  'ModelHop': array([1.94325743e-15, 3.03397025e-15, 4.05509159e-15, ...,\n",
       "         8.40273497e-13, 8.30888906e-13, 8.24209035e-13])},\n",
       " 'average_dapp': {'ModelBrownian': array([1.36910068e-12, 8.27739185e-13, 6.80803175e-13, ...,\n",
       "         3.30279426e-13, 3.25659956e-13, 3.23565487e-13]),\n",
       "  'ModelHop': array([1.45744307e-12, 9.10191075e-13, 7.60329673e-13, ...,\n",
       "         1.05174420e-13, 1.03973752e-13, 1.03112056e-13])}}"
      ]
     },
     "execution_count": 22,
     "metadata": {},
     "output_type": "execute_result"
    },
    {
     "data": {
      "image/png": "[encoded data removed]",
      "text/plain": [
       "<Figure size 432x288 with 1 Axes>"
      ]
     },
     "metadata": {
      "needs_background": "light"
     },
     "output_type": "display_data"
    },
    {
     "data": {
      "image/png": "[encoded data removed]",
      "text/plain": [
       "<Figure size 432x288 with 1 Axes>"
      ]
     },
     "metadata": {},
     "output_type": "display_data"
    }
   ],
   "source": [
    "tracks.adc_summary(plot_dapp = True, plot_pie_chart=True)"
   ]
  },
  {
   "cell_type": "markdown",
   "metadata": {},
   "source": [
    "Now that analysis is done we can also retreive all tracks that fit a certain diffusion category best:"
   ]
  },
  {
   "cell_type": "code",
   "execution_count": 27,
   "metadata": {
    "scrolled": true
   },
   "outputs": [
    {
     "name": "stderr",
     "output_type": "stream",
     "text": [
      "/home/iscat/Desktop/iSCAT_tracking/iscat_lib/analysis/models.py:20: RuntimeWarning: divide by zero encountered in true_divide\n",
      "  return D + delta**2 / (2*t*(1-2*self.R*self.dt/t))\n",
      "/home/iscat/Desktop/iSCAT_tracking/iscat_lib/analysis/models.py:20: RuntimeWarning: invalid value encountered in multiply\n",
      "  return D + delta**2 / (2*t*(1-2*self.R*self.dt/t))\n"
     ]
    },
    {
     "data": {
      "text/plain": [
       "{'sectors': {'ModelBrownian': 1.0, 'not catergorized': 0.0},\n",
       " 'average_params': {'ModelBrownian': array([3.40323115e-13, 2.71560061e-08])},\n",
       " 'average_msd': {'ModelBrownian': array([1.82546758e-15, 2.75913062e-15, 3.63095027e-15, ...,\n",
       "         2.63871243e-12, 2.60245726e-12, 2.58636679e-12])},\n",
       " 'average_dapp': {'ModelBrownian': array([1.36910068e-12, 8.27739185e-13, 6.80803175e-13, ...,\n",
       "         3.30279426e-13, 3.25659956e-13, 3.23565487e-13])}}"
      ]
     },
     "execution_count": 27,
     "metadata": {},
     "output_type": "execute_result"
    },
    {
     "data": {
      "image/png": "[encoded data removed]",
      "text/plain": [
       "<Figure size 432x288 with 1 Axes>"
      ]
     },
     "metadata": {
      "needs_background": "light"
     },
     "output_type": "display_data"
    }
   ],
   "source": [
    "tracks_brownian = tracks.get_sublist(method=\"adc\", model=ModelBrownian)\n",
    "tracks_brownian.adc_summary(plot_dapp=True)"
   ]
  },
  {
   "cell_type": "markdown",
   "metadata": {},
   "source": [
    "As mentioned before, we can retreive the analysis results for any track, at any time:"
   ]
  },
  {
   "cell_type": "code",
   "execution_count": 28,
   "metadata": {
    "scrolled": true
   },
   "outputs": [
    {
     "data": {
      "text/plain": [
       "{'Dapp': array([5.17508867e-13, 3.83849323e-13, 3.44462863e-13, ...,\n",
       "        3.20152702e-14, 3.24740666e-14, 3.09546058e-14]),\n",
       " 'fit_indices': [0, 1, 3, 6, 11, 19, 31, 50, 80],\n",
       " 'fit_results': {'ModelBrownian': {'params': array([2.25237594e-13, 1.50622912e-08]),\n",
       "   'errors': array([8.55029201e-15, 6.73555172e-10]),\n",
       "   'bic': -60.28178076227987,\n",
       "   'rel_likelihood': 1.0},\n",
       "  'ModelConfined': {'params': array([3.91995698e-22, 2.38892012e-08, 1.88788678e-15]),\n",
       "   'errors': array([0.00000000e+00, 4.72057921e-09, 0.00000000e+00]),\n",
       "   'bic': -56.17006926430937,\n",
       "   'rel_likelihood': 0.1279832671516896},\n",
       "  'ModelHop': {'params': array([2.25237594e-13, 2.31517108e-24, 1.50625138e-08, 7.75100910e-05]),\n",
       "   'errors': array([1.29816878e-14, 1.16708621e-11, 3.65667958e-09, 4.33080701e-25]),\n",
       "   'bic': -60.281696750381585,\n",
       "   'rel_likelihood': 0.9999579949330936}},\n",
       " 'best_model': 'ModelBrownian'}"
      ]
     },
     "execution_count": 28,
     "metadata": {},
     "output_type": "execute_result"
    }
   ],
   "source": [
    "tracks_brownian.get_track(42).get_adc_analysis_results()"
   ]
  },
  {
   "cell_type": "markdown",
   "metadata": {},
   "source": [
    "We can also plot them:"
   ]
  },
  {
   "cell_type": "code",
   "execution_count": 29,
   "metadata": {},
   "outputs": [
    {
     "data": {
      "image/png": "[encoded data removed]",
      "text/plain": [
       "<Figure size 432x288 with 1 Axes>"
      ]
     },
     "metadata": {
      "needs_background": "light"
     },
     "output_type": "display_data"
    }
   ],
   "source": [
    "tracks_brownian.get_track(42).plot_adc_analysis_results()"
   ]
  }
 ],
 "metadata": {
  "kernelspec": {
   "display_name": "Python [conda env:iscat]",
   "language": "python",
   "name": "conda-env-iscat-py"
  },
  "language_info": {
   "codemirror_mode": {
    "name": "ipython",
    "version": 3
   },
   "file_extension": ".py",
   "mimetype": "text/x-python",
   "name": "python",
   "nbconvert_exporter": "python",
   "pygments_lexer": "ipython3",
   "version": "3.7.0"
  }
 },
 "nbformat": 4,
 "nbformat_minor": 4
}
