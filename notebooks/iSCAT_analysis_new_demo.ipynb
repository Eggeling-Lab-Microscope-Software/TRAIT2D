{
 "cells": [
  {
   "cell_type": "markdown",
   "metadata": {},
   "source": [
    "# iSCAT Analysis Demo"
   ]
  },
  {
   "cell_type": "markdown",
   "metadata": {},
   "source": [
    "This notebook demonstrates:\n",
    "* Loading mulitple tracks from a single file\n",
    "* Retreiving single tracks from this\n",
    "* ADC analysis of a single track\n",
    "* ADC analysis of multiple tracks at once\n",
    "* Retreiving analysis results using `adc_summary`\n",
    "* Retreiving tracks that fit a certain diffusion category"
   ]
  },
  {
   "cell_type": "markdown",
   "metadata": {},
   "source": [
    "Before we start fitting our data, we need to add some models. `iscat_lib.analysis.models` contains a few models that we can add to `ModelDB`. All models added this way will be used during analysis."
   ]
  },
  {
   "cell_type": "code",
   "execution_count": 1,
   "metadata": {},
   "outputs": [],
   "source": [
    "from iscat_lib.analysis import ModelDB\n",
    "from iscat_lib.analysis.models import ModelBrownian, ModelConfined, ModelHop\n",
    "\n",
    "ModelDB().add_model(ModelBrownian)\n",
    "ModelDB().add_model(ModelConfined)\n",
    "ModelDB().add_model(ModelHop)"
   ]
  },
  {
   "cell_type": "markdown",
   "metadata": {},
   "source": [
    "Multiple tracks are stored in a `ListOfTracks` objects. "
   ]
  },
  {
   "cell_type": "code",
   "execution_count": 2,
   "metadata": {},
   "outputs": [],
   "source": [
    "from iscat_lib.analysis import ListOfTracks"
   ]
  },
  {
   "cell_type": "markdown",
   "metadata": {},
   "source": [
    "Load the tracks from some example data. We can use `tracks.normalize` to set the initial time value of all tracks to 0."
   ]
  },
  {
   "cell_type": "code",
   "execution_count": 3,
   "metadata": {},
   "outputs": [],
   "source": [
    "tracks = ListOfTracks.from_file(\"../examples/more test data/180912 20nm GoldNP on 75DOPC25Chol (2kHz 100pc power)_Position_converted_fixed.csv\", unit_length='micrometres')\n",
    "tracks.normalize(normalize_t = True, normalize_xy = False)"
   ]
  },
  {
   "cell_type": "markdown",
   "metadata": {},
   "source": [
    "Single tracks are stored in a `Track` object."
   ]
  },
  {
   "cell_type": "code",
   "execution_count": 4,
   "metadata": {},
   "outputs": [],
   "source": [
    "from iscat_lib.analysis import Track"
   ]
  },
  {
   "cell_type": "markdown",
   "metadata": {},
   "source": [
    "We can retreive single tracks either by their index in then `LiftOfTracks` object using `get_track` of by their ID (should they have one) using `get_track_by_id`:"
   ]
  },
  {
   "cell_type": "code",
   "execution_count": 5,
   "metadata": {},
   "outputs": [],
   "source": [
    "single_track = tracks.get_track(0)"
   ]
  },
  {
   "cell_type": "markdown",
   "metadata": {},
   "source": [
    "We can now do ADC analysis on the track:"
   ]
  },
  {
   "cell_type": "code",
   "execution_count": 6,
   "metadata": {},
   "outputs": [],
   "source": [
    "results = single_track.adc_analysis()"
   ]
  },
  {
   "cell_type": "markdown",
   "metadata": {},
   "source": [
    "Analysis results like the calculated values for $D_{app}$, fit parameters and much more are returned in a dictionary. We can also retreive the dictionary of the last analysis at any time with `get_adc_analysis_results`."
   ]
  },
  {
   "cell_type": "code",
   "execution_count": 7,
   "metadata": {},
   "outputs": [
    {
     "data": {
      "text/plain": [
       "{'ModelBrownian': {'params': array([8.72791175e-13, 5.10762742e-08]),\n",
       "  'errors': array([4.19813777e-15, 8.78994339e-10]),\n",
       "  'bic': -54.64141697148811,\n",
       "  'rel_likelihood': 1.0},\n",
       " 'ModelConfined': {'params': array([1.04841983e-21, 1.04105487e-07, 4.26091324e-04]),\n",
       "  'errors': array([1.22687120e-11, 1.20631910e-08, 5.83251588e-23]),\n",
       "  'bic': -49.550082766762905,\n",
       "  'rel_likelihood': 0.07842071987971853},\n",
       " 'ModelHop': {'params': array([8.88467225e-13, 8.81264679e-12, 3.69141356e-08, 3.35368576e-04]),\n",
       "  'errors': array([7.07694003e-15, 2.56410219e-11, 4.99850559e-09, 5.95617034e-04]),\n",
       "  'bic': -53.553995514604864,\n",
       "  'rel_likelihood': 0.5805898389792749}}"
      ]
     },
     "execution_count": 7,
     "metadata": {},
     "output_type": "execute_result"
    }
   ],
   "source": [
    "fit_results = results[\"fit_results\"]\n",
    "fit_results"
   ]
  },
  {
   "cell_type": "markdown",
   "metadata": {},
   "source": [
    "In order to set initial parameters or bounds for the fits, we need to modify the models inside `ModelDB`. These will then be applied during all analysis from this point on."
   ]
  },
  {
   "cell_type": "code",
   "execution_count": 8,
   "metadata": {},
   "outputs": [],
   "source": [
    "ModelDB().get_model(ModelBrownian).initial = fit_results[\"ModelBrownian\"][\"params\"]\n",
    "ModelDB().get_model(ModelConfined).initial = fit_results[\"ModelConfined\"][\"params\"]\n",
    "ModelDB().get_model(ModelHop).initial = fit_results[\"ModelHop\"][\"params\"]"
   ]
  },
  {
   "cell_type": "markdown",
   "metadata": {},
   "source": [
    "Here, we set all initial parameters to the results of our single fit."
   ]
  },
  {
   "cell_type": "code",
   "execution_count": 9,
   "metadata": {},
   "outputs": [
    {
     "data": {
      "text/plain": [
       "array([8.72791175e-13, 5.10762742e-08])"
      ]
     },
     "execution_count": 9,
     "metadata": {},
     "output_type": "execute_result"
    }
   ],
   "source": [
    "ModelDB().get_model(ModelBrownian).initial"
   ]
  },
  {
   "cell_type": "markdown",
   "metadata": {},
   "source": [
    "Now that we set our initial guesses, let's analyse the remaining tracks at once.\n",
    "\n",
    "Enabling logarithmic sampling is a good idea since the time axis will be scaled logarithmically by default. We can also set the maximum time on the time for which to fit.\n",
    "\n",
    "`adc_analysis` will return a list containing the indices of all tracks for which a fit has failed. These can then be retreived with `get_track` and analysed further."
   ]
  },
  {
   "cell_type": "code",
   "execution_count": null,
   "metadata": {
    "scrolled": true
   },
   "outputs": [],
   "source": [
    "tracks.adc_analysis(fit_max_time=50e-3, enable_log_sampling=True)"
   ]
  },
  {
   "cell_type": "markdown",
   "metadata": {},
   "source": [
    "`adc_summary` gives an overview of the analysis results including optional plots, the averaged parameters for each model, the averaged MSD for each model and the averaged $D_{app}$ for each model."
   ]
  },
  {
   "cell_type": "code",
   "execution_count": null,
   "metadata": {},
   "outputs": [],
   "source": [
    "tracks.adc_summary(plot_dapp = True, plot_pie_chart=True)"
   ]
  },
  {
   "cell_type": "markdown",
   "metadata": {},
   "source": [
    "Now that analysis is done we can also retreive all tracks that fit a certain diffusion category best:"
   ]
  },
  {
   "cell_type": "code",
   "execution_count": null,
   "metadata": {
    "scrolled": true
   },
   "outputs": [],
   "source": [
    "tracks_brownian = tracks.get_sublist(method=\"adc\", model=ModelBrownian)\n",
    "tracks_brownian.adc_summary(plot_dapp=True)"
   ]
  },
  {
   "cell_type": "markdown",
   "metadata": {},
   "source": [
    "As mentioned before, we can retreive the analysis results for any track, at any time:"
   ]
  },
  {
   "cell_type": "code",
   "execution_count": null,
   "metadata": {
    "scrolled": true
   },
   "outputs": [],
   "source": [
    "tracks_brownian.get_track(42).get_adc_analysis_results()"
   ]
  },
  {
   "cell_type": "markdown",
   "metadata": {},
   "source": [
    "We can also plot them:"
   ]
  },
  {
   "cell_type": "code",
   "execution_count": null,
   "metadata": {},
   "outputs": [],
   "source": [
    "tracks_brownian.get_track(42).plot_adc_analysis_results()"
   ]
  }
 ],
 "metadata": {
  "kernelspec": {
   "display_name": "Python [conda env:iscat]",
   "language": "python",
   "name": "conda-env-iscat-py"
  },
  "language_info": {
   "codemirror_mode": {
    "name": "ipython",
    "version": 3
   },
   "file_extension": ".py",
   "mimetype": "text/x-python",
   "name": "python",
   "nbconvert_exporter": "python",
   "pygments_lexer": "ipython3",
   "version": "3.7.0"
  }
 },
 "nbformat": 4,
 "nbformat_minor": 4
}
